{
 "cells": [
  {
   "cell_type": "code",
   "execution_count": 1,
   "id": "7fa118f3",
   "metadata": {},
   "outputs": [],
   "source": [
    "import os\n",
    "os.environ[\"TF_CPP_MIN_LOG_LEVEL\"] = \"2\"\n",
    "import tensorflow as tf\n",
    "from tensorflow.keras import datasets, layers, models\n",
    "import matplotlib.pyplot as plt \n",
    "import numpy as np"
   ]
  },
  {
   "cell_type": "code",
   "execution_count": 2,
   "id": "477c56b7",
   "metadata": {},
   "outputs": [],
   "source": [
    "(X_train, y_train), (X_test, y_test) = datasets.cifar10.load_data()\n",
    "# сделаем нормирование значений пикселей (поделим на 255)\n",
    "X_train = X_train / 255\n",
    "X_test = X_train / 255"
   ]
  },
  {
   "cell_type": "code",
   "execution_count": 3,
   "id": "5a03bd4f",
   "metadata": {},
   "outputs": [],
   "source": [
    "cnn = models.Sequential([\n",
    "    \n",
    "    # cnn layers \n",
    "    # filters - число фичей, которые мы будем выделять в изображении.\n",
    "    # kernel size - размер фичи\n",
    "    layers.Conv2D(filters=32, kernel_size=(3,3), activation='relu', input_shape=(32,32,3)),\n",
    "    \n",
    "    # pooling - заменяем квадрат пикселей 2х2 на один пиксель argmax по квадрату \n",
    "    layers.MaxPooling2D((2,2)),\n",
    "    \n",
    "    \n",
    "    # dense layers \n",
    "    layers.Flatten(input_shape=(32,32,3)),\n",
    "    # слой ниже будем заменять TT слоем\n",
    "    layers.Dense(1024, activation='relu'),\n",
    "    layers.Dense(3125, activation='relu'),\n",
    "    layers.Dense(10, activation='softmax')\n",
    "])"
   ]
  },
  {
   "cell_type": "code",
   "execution_count": 4,
   "id": "7dbeb8c4",
   "metadata": {},
   "outputs": [],
   "source": [
    "cnn.compile(optimizer='adam',\n",
    "            loss='sparse_categorical_crossentropy',\n",
    "            metrics=['accuracy'])"
   ]
  },
  {
   "cell_type": "code",
   "execution_count": 5,
   "id": "55867489",
   "metadata": {},
   "outputs": [
    {
     "name": "stdout",
     "output_type": "stream",
     "text": [
      "Model: \"sequential\"\n",
      "_________________________________________________________________\n",
      " Layer (type)                Output Shape              Param #   \n",
      "=================================================================\n",
      " conv2d (Conv2D)             (None, 30, 30, 32)        896       \n",
      "                                                                 \n",
      " max_pooling2d (MaxPooling2D  (None, 15, 15, 32)       0         \n",
      " )                                                               \n",
      "                                                                 \n",
      " flatten (Flatten)           (None, 7200)              0         \n",
      "                                                                 \n",
      " dense (Dense)               (None, 1024)              7373824   \n",
      "                                                                 \n",
      " dense_1 (Dense)             (None, 3125)              3203125   \n",
      "                                                                 \n",
      " dense_2 (Dense)             (None, 10)                31260     \n",
      "                                                                 \n",
      "=================================================================\n",
      "Total params: 10,609,105\n",
      "Trainable params: 10,609,105\n",
      "Non-trainable params: 0\n",
      "_________________________________________________________________\n"
     ]
    }
   ],
   "source": [
    "cnn.summary()"
   ]
  },
  {
   "cell_type": "code",
   "execution_count": 6,
   "id": "344c0aad",
   "metadata": {},
   "outputs": [
    {
     "name": "stdout",
     "output_type": "stream",
     "text": [
      "Epoch 1/3\n",
      "1563/1563 [==============================] - 159s 101ms/step - loss: 1.4083 - accuracy: 0.4909\n",
      "Epoch 2/3\n",
      "1563/1563 [==============================] - 157s 101ms/step - loss: 1.0561 - accuracy: 0.6263\n",
      "Epoch 3/3\n",
      "1563/1563 [==============================] - 159s 102ms/step - loss: 0.8755 - accuracy: 0.6925\n"
     ]
    },
    {
     "data": {
      "text/plain": [
       "<keras.callbacks.History at 0x7fc32abeaa60>"
      ]
     },
     "execution_count": 6,
     "metadata": {},
     "output_type": "execute_result"
    }
   ],
   "source": [
    "cnn.fit(X_train, y_train, epochs=3)"
   ]
  },
  {
   "cell_type": "code",
   "execution_count": 7,
   "id": "da070e67",
   "metadata": {},
   "outputs": [
    {
     "name": "stdout",
     "output_type": "stream",
     "text": [
      "(1024, 3125)\n",
      "A TT-Matrix of size 1024 x 3125, underlying tensor shape: (4, 4, 4, 4, 4) x (5, 5, 5, 5, 5), TT-ranks: (1, 8, 8, 8, 8, 1)\n"
     ]
    }
   ],
   "source": [
    "import t3f\n",
    "# W1 = cnn.trainable_weights[2]\n",
    "# print(W1.shape)\n",
    "# Wtt1 = t3f.to_tt_matrix(W1, shape=[[4, 4, 4, 4, 4], [5, 5, 5, 5, 5]], max_tt_rank=8)\n",
    "# print(Wtt1)\n",
    "\n",
    "W2 = cnn.trainable_weights[4]\n",
    "print(W2.shape)\n",
    "Wtt2 = t3f.to_tt_matrix(W2, shape=[[4, 4, 4, 4, 4], [5, 5, 5, 5, 5]], max_tt_rank=8)\n",
    "print(Wtt2)"
   ]
  },
  {
   "cell_type": "code",
   "execution_count": 8,
   "id": "04d4f86a",
   "metadata": {},
   "outputs": [
    {
     "ename": "NameError",
     "evalue": "name 'Wtt' is not defined",
     "output_type": "error",
     "traceback": [
      "\u001b[0;31m---------------------------------------------------------------------------\u001b[0m",
      "\u001b[0;31mNameError\u001b[0m                                 Traceback (most recent call last)",
      "\u001b[0;32m/var/folders/6t/plphg2d53h911yhzs5c3clzm0000gn/T/ipykernel_59129/2046971004.py\u001b[0m in \u001b[0;36m<module>\u001b[0;34m\u001b[0m\n\u001b[0;32m----> 1\u001b[0;31m \u001b[0mcores\u001b[0m \u001b[0;34m=\u001b[0m \u001b[0mWtt\u001b[0m\u001b[0;34m.\u001b[0m\u001b[0mtt_cores\u001b[0m\u001b[0;34m\u001b[0m\u001b[0;34m\u001b[0m\u001b[0m\n\u001b[0m\u001b[1;32m      2\u001b[0m \u001b[0mother_params\u001b[0m \u001b[0;34m=\u001b[0m \u001b[0mcnn\u001b[0m\u001b[0;34m.\u001b[0m\u001b[0mget_weights\u001b[0m\u001b[0;34m(\u001b[0m\u001b[0;34m)\u001b[0m\u001b[0;34m[\u001b[0m\u001b[0;36m4\u001b[0m\u001b[0;34m:\u001b[0m\u001b[0;34m]\u001b[0m\u001b[0;34m\u001b[0m\u001b[0;34m\u001b[0m\u001b[0m\n",
      "\u001b[0;31mNameError\u001b[0m: name 'Wtt' is not defined"
     ]
    }
   ],
   "source": [
    "cores = Wtt.tt_cores\n",
    "other_params = cnn.get_weights()[4:]"
   ]
  },
  {
   "cell_type": "markdown",
   "id": "baf2dd0d",
   "metadata": {},
   "source": [
    "## Заменим на TT-слой"
   ]
  },
  {
   "cell_type": "code",
   "execution_count": 10,
   "id": "f3d148f3",
   "metadata": {},
   "outputs": [
    {
     "name": "stdout",
     "output_type": "stream",
     "text": [
      "WARNING:tensorflow:From /Users/aleksejnaumov/opt/anaconda3/lib/python3.9/site-packages/tensorflow/python/autograph/pyct/static_analysis/liveness.py:83: Analyzer.lamba_check (from tensorflow.python.autograph.pyct.static_analysis.liveness) is deprecated and will be removed after 2023-09-23.\n",
      "Instructions for updating:\n",
      "Lambda fuctions will be no more assumed to be used in the statement where they are used, or at least in the same block. https://github.com/tensorflow/tensorflow/issues/56089\n"
     ]
    }
   ],
   "source": [
    "cnn_tt = models.Sequential([\n",
    "    \n",
    "    # cnn layers \n",
    "    # filters - число фичей, которые мы будем выделять в изображении.\n",
    "    # kernel size - размер фичи\n",
    "    layers.Conv2D(filters=32, kernel_size=(3,3), activation='relu', input_shape=(32,32,3)),\n",
    "    \n",
    "    # pooling - заменяем квадрат пикселей 2х2 на один пиксель argmax по квадрату \n",
    "    layers.MaxPooling2D((2,2)),\n",
    "    \n",
    "    \n",
    "    # dense layers \n",
    "    layers.Flatten(input_shape=(32,32,3)),\n",
    "    layers.Dense(1024, activation='relu'),\n",
    "    t3f.nn.KerasDense(input_dims=[4, 4, 4, 4, 4], output_dims=[5, 5, 5, 5, 5], tt_rank=8, activation='relu'),\n",
    "    layers.Dense(10, activation='softmax')\n",
    "])"
   ]
  },
  {
   "cell_type": "code",
   "execution_count": 11,
   "id": "e340997b",
   "metadata": {},
   "outputs": [],
   "source": [
    "cnn_tt.compile(optimizer='adam',\n",
    "            loss='sparse_categorical_crossentropy',\n",
    "            metrics=['accuracy'])"
   ]
  },
  {
   "cell_type": "code",
   "execution_count": 12,
   "id": "e9719f55",
   "metadata": {},
   "outputs": [
    {
     "name": "stdout",
     "output_type": "stream",
     "text": [
      "Model: \"sequential_1\"\n",
      "_________________________________________________________________\n",
      " Layer (type)                Output Shape              Param #   \n",
      "=================================================================\n",
      " conv2d_1 (Conv2D)           (None, 30, 30, 32)        896       \n",
      "                                                                 \n",
      " max_pooling2d_1 (MaxPooling  (None, 15, 15, 32)       0         \n",
      " 2D)                                                             \n",
      "                                                                 \n",
      " flatten_1 (Flatten)         (None, 7200)              0         \n",
      "                                                                 \n",
      " dense_3 (Dense)             (None, 1024)              7373824   \n",
      "                                                                 \n",
      " tt_dense_0 (KerasDense)     (None, 3125)              7285      \n",
      "                                                                 \n",
      " dense_4 (Dense)             (None, 10)                31260     \n",
      "                                                                 \n",
      "=================================================================\n",
      "Total params: 7,413,265\n",
      "Trainable params: 7,413,265\n",
      "Non-trainable params: 0\n",
      "_________________________________________________________________\n"
     ]
    }
   ],
   "source": [
    "cnn_tt.summary()"
   ]
  },
  {
   "cell_type": "code",
   "execution_count": 13,
   "id": "8b747d1f",
   "metadata": {},
   "outputs": [
    {
     "name": "stdout",
     "output_type": "stream",
     "text": [
      "Epoch 1/3\n",
      "1563/1563 [==============================] - 157s 100ms/step - loss: 1.3693 - accuracy: 0.5070\n",
      "Epoch 2/3\n",
      "1563/1563 [==============================] - 158s 101ms/step - loss: 0.9875 - accuracy: 0.6514\n",
      "Epoch 3/3\n",
      "1563/1563 [==============================] - 156s 100ms/step - loss: 0.7713 - accuracy: 0.7271\n"
     ]
    },
    {
     "data": {
      "text/plain": [
       "<keras.callbacks.History at 0x7fc2d7f29820>"
      ]
     },
     "execution_count": 13,
     "metadata": {},
     "output_type": "execute_result"
    }
   ],
   "source": [
    "cnn_tt.fit(X_train, y_train, epochs=3)"
   ]
  },
  {
   "cell_type": "code",
   "execution_count": null,
   "id": "31ab12b2",
   "metadata": {},
   "outputs": [],
   "source": []
  }
 ],
 "metadata": {
  "kernelspec": {
   "display_name": "Python 3 (ipykernel)",
   "language": "python",
   "name": "python3"
  },
  "language_info": {
   "codemirror_mode": {
    "name": "ipython",
    "version": 3
   },
   "file_extension": ".py",
   "mimetype": "text/x-python",
   "name": "python",
   "nbconvert_exporter": "python",
   "pygments_lexer": "ipython3",
   "version": "3.9.13"
  }
 },
 "nbformat": 4,
 "nbformat_minor": 5
}
